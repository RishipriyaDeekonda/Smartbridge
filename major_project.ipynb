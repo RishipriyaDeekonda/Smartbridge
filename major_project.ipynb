{
  "nbformat": 4,
  "nbformat_minor": 0,
  "metadata": {
    "colab": {
      "provenance": [],
      "authorship_tag": "ABX9TyNE3FudhI4YQMp1hZuE9hic",
      "include_colab_link": true
    },
    "kernelspec": {
      "name": "python3",
      "display_name": "Python 3"
    },
    "language_info": {
      "name": "python"
    }
  },
  "cells": [
    {
      "cell_type": "markdown",
      "metadata": {
        "id": "view-in-github",
        "colab_type": "text"
      },
      "source": [
        "<a href=\"https://colab.research.google.com/github/RishipriyaDeekonda/Smartbridge/blob/main/major_project.ipynb\" target=\"_parent\"><img src=\"https://colab.research.google.com/assets/colab-badge.svg\" alt=\"Open In Colab\"/></a>"
      ]
    },
    {
      "cell_type": "markdown",
      "source": [
        "**importing the libraries**"
      ],
      "metadata": {
        "id": "7yd0MgsGQ9It"
      }
    },
    {
      "cell_type": "code",
      "execution_count": 2,
      "metadata": {
        "id": "Ycqgjb6FPsme"
      },
      "outputs": [],
      "source": [
        "import os\n",
        "import shutil\n",
        "import numpy as np\n",
        "from tensorflow.keras.preprocessing.image import ImageDataGenerator\n",
        "from sklearn.model_selection import train_test_split\n",
        "from tensorflow.keras.applications.vgg16 import VGG16\n",
        "from tensorflow.keras.layers import Dense, Flatten\n",
        "from tensorflow.keras.models import Model\n",
        "from keras.optimizers import Adam\n",
        "from keras.preprocessing import image\n",
        "from keras.applications.vgg16 import preprocess_input\n",
        "from tensorflow.keras.preprocessing.image import load_img, img_to_array\n"
      ]
    },
    {
      "cell_type": "markdown",
      "source": [
        "**Loading the Dataset**"
      ],
      "metadata": {
        "id": "DMV2c5WGRbPW"
      }
    },
    {
      "cell_type": "code",
      "source": [
        "!pip install kaggle"
      ],
      "metadata": {
        "colab": {
          "base_uri": "https://localhost:8080/"
        },
        "collapsed": true,
        "id": "sZJzNwW-RaAk",
        "outputId": "4d34b8ff-abcd-4208-9a82-ffff8ac7b610"
      },
      "execution_count": 3,
      "outputs": [
        {
          "output_type": "stream",
          "name": "stdout",
          "text": [
            "Requirement already satisfied: kaggle in /usr/local/lib/python3.10/dist-packages (1.6.17)\n",
            "Requirement already satisfied: six>=1.10 in /usr/local/lib/python3.10/dist-packages (from kaggle) (1.16.0)\n",
            "Requirement already satisfied: certifi>=2023.7.22 in /usr/local/lib/python3.10/dist-packages (from kaggle) (2024.8.30)\n",
            "Requirement already satisfied: python-dateutil in /usr/local/lib/python3.10/dist-packages (from kaggle) (2.8.2)\n",
            "Requirement already satisfied: requests in /usr/local/lib/python3.10/dist-packages (from kaggle) (2.32.3)\n",
            "Requirement already satisfied: tqdm in /usr/local/lib/python3.10/dist-packages (from kaggle) (4.66.5)\n",
            "Requirement already satisfied: python-slugify in /usr/local/lib/python3.10/dist-packages (from kaggle) (8.0.4)\n",
            "Requirement already satisfied: urllib3 in /usr/local/lib/python3.10/dist-packages (from kaggle) (2.2.3)\n",
            "Requirement already satisfied: bleach in /usr/local/lib/python3.10/dist-packages (from kaggle) (6.1.0)\n",
            "Requirement already satisfied: webencodings in /usr/local/lib/python3.10/dist-packages (from bleach->kaggle) (0.5.1)\n",
            "Requirement already satisfied: text-unidecode>=1.3 in /usr/local/lib/python3.10/dist-packages (from python-slugify->kaggle) (1.3)\n",
            "Requirement already satisfied: charset-normalizer<4,>=2 in /usr/local/lib/python3.10/dist-packages (from requests->kaggle) (3.4.0)\n",
            "Requirement already satisfied: idna<4,>=2.5 in /usr/local/lib/python3.10/dist-packages (from requests->kaggle) (3.10)\n"
          ]
        }
      ]
    },
    {
      "cell_type": "code",
      "source": [
        "!mkdir ~/.kaggle\n",
        "!cp kaggle.json ~/.kaggle\n"
      ],
      "metadata": {
        "colab": {
          "base_uri": "https://localhost:8080/"
        },
        "id": "7rbfZFd-TGE2",
        "outputId": "5d6194f2-01bd-4854-d2dc-77f064c7567c"
      },
      "execution_count": 4,
      "outputs": [
        {
          "output_type": "stream",
          "name": "stdout",
          "text": [
            "cp: cannot stat 'kaggle.json': No such file or directory\n"
          ]
        }
      ]
    },
    {
      "cell_type": "code",
      "source": [
        "!kaggle datasets download -d elinachen717/municipal-solid-waste-dataset\n"
      ],
      "metadata": {
        "colab": {
          "base_uri": "https://localhost:8080/"
        },
        "id": "c_XQfvH8TbYV",
        "outputId": "27a7a898-83cb-4c20-f9a8-e42f107f9e87"
      },
      "execution_count": 5,
      "outputs": [
        {
          "output_type": "stream",
          "name": "stdout",
          "text": [
            "Dataset URL: https://www.kaggle.com/datasets/elinachen717/municipal-solid-waste-dataset\n",
            "License(s): CC0-1.0\n",
            "Downloading municipal-solid-waste-dataset.zip to /content\n",
            "  0% 0.00/4.81M [00:00<?, ?B/s]\n",
            "100% 4.81M/4.81M [00:00<00:00, 52.3MB/s]\n"
          ]
        }
      ]
    },
    {
      "cell_type": "code",
      "source": [
        "!unzip /content/municipal-solid-waste-dataset.zip\n"
      ],
      "metadata": {
        "colab": {
          "base_uri": "https://localhost:8080/"
        },
        "collapsed": true,
        "id": "MCqd02t5TfJT",
        "outputId": "1c58bdf2-fbb6-48a7-a686-3b9d55639e23"
      },
      "execution_count": 6,
      "outputs": [
        {
          "output_type": "stream",
          "name": "stdout",
          "text": [
            "Archive:  /content/municipal-solid-waste-dataset.zip\n",
            "  inflating: Dataset/Biodegradable Images/TEST_BIODEG_HFL_0.jpeg  \n",
            "  inflating: Dataset/Biodegradable Images/TEST_BIODEG_HFL_1.jpeg  \n",
            "  inflating: Dataset/Biodegradable Images/TEST_BIODEG_HFL_10.jpeg  \n",
            "  inflating: Dataset/Biodegradable Images/TEST_BIODEG_HFL_100.jpeg  \n",
            "  inflating: Dataset/Biodegradable Images/TEST_BIODEG_HFL_1000.jpeg  \n",
            "  inflating: Dataset/Biodegradable Images/TEST_BIODEG_HFL_1004.jpeg  \n",
            "  inflating: Dataset/Biodegradable Images/TEST_BIODEG_HFL_1005.jpeg  \n",
            "  inflating: Dataset/Biodegradable Images/TEST_BIODEG_HFL_1007.jpeg  \n",
            "  inflating: Dataset/Biodegradable Images/TEST_BIODEG_HFL_1008.jpeg  \n",
            "  inflating: Dataset/Biodegradable Images/TEST_BIODEG_HFL_1009.jpeg  \n",
            "  inflating: Dataset/Biodegradable Images/TRAIN.1_BIODEG_ORI_10035.jpg  \n",
            "  inflating: Dataset/Biodegradable Images/TRAIN.2_BIODEG_ORI_10025.jpg  \n",
            "  inflating: Dataset/Biodegradable Images/TRAIN.2_BIODEG_ORI_10043.jpg  \n",
            "  inflating: Dataset/Biodegradable Images/TRAIN.2_BIODEG_ORI_10047.jpg  \n",
            "  inflating: Dataset/Biodegradable Images/TRAIN.2_BIODEG_ORI_10048.jpg  \n",
            "  inflating: Dataset/Biodegradable Images/TRAIN.2_BIODEG_ORI_10049.jpg  \n",
            "  inflating: Dataset/Biodegradable Images/TRAIN.2_BIODEG_ORI_101.jpg  \n",
            "  inflating: Dataset/Biodegradable Images/TRAIN.2_BIODEG_ORI_1010.jpg  \n",
            "  inflating: Dataset/Biodegradable Images/TRAIN.2_BIODEG_ORI_10124.jpg  \n",
            "  inflating: Dataset/Biodegradable Images/TRAIN.2_BIODEG_ORI_10125.jpg  \n",
            "  inflating: Dataset/Biodegradable Images/TRAIN.2_BIODEG_ORI_1013.jpg  \n",
            "  inflating: Dataset/Biodegradable Images/TRAIN.2_BIODEG_ORI_10130.jpg  \n",
            "  inflating: Dataset/Biodegradable Images/TRAIN.2_BIODEG_ORI_10131.jpg  \n",
            "  inflating: Dataset/Biodegradable Images/TRAIN.2_BIODEG_ORI_10133.jpg  \n",
            "  inflating: Dataset/Biodegradable Images/TRAIN.2_BIODEG_ORI_10136.jpg  \n",
            "  inflating: Dataset/Biodegradable Images/TRAIN.2_BIODEG_ORI_10137.jpg  \n",
            "  inflating: Dataset/Biodegradable Images/TRAIN.2_BIODEG_ORI_10139.jpg  \n",
            "  inflating: Dataset/Biodegradable Images/TRAIN.2_BIODEG_ORI_1014.jpg  \n",
            "  inflating: Dataset/Biodegradable Images/TRAIN.2_BIODEG_ORI_10143.jpg  \n",
            "  inflating: Dataset/Biodegradable Images/TRAIN.2_BIODEG_ORI_10149.jpg  \n",
            "  inflating: Dataset/Biodegradable Images/TRAIN.2_BIODEG_ORI_1015.jpg  \n",
            "  inflating: Dataset/Biodegradable Images/TRAIN.2_BIODEG_ORI_10151.jpg  \n",
            "  inflating: Dataset/Biodegradable Images/TRAIN.2_BIODEG_ORI_10154.jpg  \n",
            "  inflating: Dataset/Biodegradable Images/TRAIN.2_BIODEG_ORI_10155.jpg  \n",
            "  inflating: Dataset/Biodegradable Images/TRAIN.2_BIODEG_ORI_10183.jpg  \n",
            "  inflating: Dataset/Biodegradable Images/TRAIN.2_BIODEG_ORI_10206.jpg  \n",
            "  inflating: Dataset/Biodegradable Images/TRAIN.2_BIODEG_ORI_1027.jpg  \n",
            "  inflating: Dataset/Biodegradable Images/TRAIN.2_BIODEG_ORI_10270.jpg  \n",
            "  inflating: Dataset/Biodegradable Images/TRAIN.2_BIODEG_ORI_10287.jpg  \n",
            "  inflating: Dataset/Biodegradable Images/TRAIN.2_BIODEG_ORI_1036.jpg  \n",
            "  inflating: Dataset/Biodegradable Images/TRAIN.2_BIODEG_ORI_1037.jpg  \n",
            "  inflating: Dataset/Biodegradable Images/TRAIN.2_BIODEG_ORI_10384.jpg  \n",
            "  inflating: Dataset/Biodegradable Images/TRAIN.2_BIODEG_ORI_10387.jpg  \n",
            "  inflating: Dataset/Biodegradable Images/TRAIN.2_BIODEG_ORI_10388.jpg  \n",
            "  inflating: Dataset/Biodegradable Images/TRAIN.2_BIODEG_ORI_10389.jpg  \n",
            "  inflating: Dataset/Biodegradable Images/TRAIN.2_BIODEG_ORI_10394.jpg  \n",
            "  inflating: Dataset/Biodegradable Images/TRAIN.2_BIODEG_ORI_104.jpg  \n",
            "  inflating: Dataset/Biodegradable Images/TRAIN.2_BIODEG_ORI_10400.jpg  \n",
            "  inflating: Dataset/Biodegradable Images/TRAIN.2_BIODEG_ORI_10478.jpg  \n",
            "  inflating: Dataset/Biodegradable Images/TRAIN.2_BIODEG_ORI_10657.jpg  \n",
            "  inflating: Dataset/Biodegradable Images/TRAIN.2_BIODEG_ORI_10658.jpg  \n",
            "  inflating: Dataset/Biodegradable Images/TRAIN.2_BIODEG_ORI_10660.jpg  \n",
            "  inflating: Dataset/Biodegradable Images/TRAIN.2_BIODEG_ORI_10661.jpg  \n",
            "  inflating: Dataset/Biodegradable Images/TRAIN.2_BIODEG_ORI_10662.jpg  \n",
            "  inflating: Dataset/Biodegradable Images/TRAIN.2_BIODEG_ORI_10667.jpg  \n",
            "  inflating: Dataset/Biodegradable Images/TRAIN.2_BIODEG_ORI_10703.jpg  \n",
            "  inflating: Dataset/Biodegradable Images/TRAIN.2_BIODEG_ORI_10707.jpg  \n",
            "  inflating: Dataset/Biodegradable Images/TRAIN.2_BIODEG_ORI_10765.jpg  \n",
            "  inflating: Dataset/Biodegradable Images/TRAIN.2_BIODEG_ORI_10768.jpg  \n",
            "  inflating: Dataset/Biodegradable Images/TRAIN.2_BIODEG_ORI_10772.jpg  \n",
            "  inflating: Dataset/Biodegradable Images/TRAIN.2_BIODEG_ORI_10774.jpg  \n",
            "  inflating: Dataset/Biodegradable Images/TRAIN.2_BIODEG_ORI_10777.jpg  \n",
            "  inflating: Dataset/Biodegradable Images/TRAIN.2_BIODEG_ORI_10778.jpg  \n",
            "  inflating: Dataset/Biodegradable Images/TRAIN.2_BIODEG_ORI_10788.jpg  \n",
            "  inflating: Dataset/Biodegradable Images/TRAIN.2_BIODEG_ORI_1083.jpg  \n",
            "  inflating: Dataset/Biodegradable Images/TRAIN.2_BIODEG_ORI_10941.jpg  \n",
            "  inflating: Dataset/Biodegradable Images/TRAIN.2_BIODEG_ORI_10942.jpg  \n",
            "  inflating: Dataset/Biodegradable Images/TRAIN.2_BIODEG_ORI_10943.jpg  \n",
            "  inflating: Dataset/Biodegradable Images/TRAIN.2_BIODEG_ORI_10944.jpg  \n",
            "  inflating: Dataset/Biodegradable Images/TRAIN.2_BIODEG_ORI_10945.jpg  \n",
            "  inflating: Dataset/Biodegradable Images/TRAIN.2_BIODEG_ORI_10946.jpg  \n",
            "  inflating: Dataset/Biodegradable Images/TRAIN.2_BIODEG_ORI_11042.jpg  \n",
            "  inflating: Dataset/Biodegradable Images/TRAIN.2_BIODEG_ORI_1110.jpg  \n",
            "  inflating: Dataset/Biodegradable Images/TRAIN.2_BIODEG_ORI_11167.jpg  \n",
            "  inflating: Dataset/Biodegradable Images/TRAIN.2_BIODEG_ORI_11171.jpg  \n",
            "  inflating: Dataset/Biodegradable Images/TRAIN.2_BIODEG_ORI_11172.jpg  \n",
            "  inflating: Dataset/Biodegradable Images/TRAIN.2_BIODEG_ORI_11175.jpg  \n",
            "  inflating: Dataset/Biodegradable Images/TRAIN.2_BIODEG_ORI_11176.jpg  \n",
            "  inflating: Dataset/Biodegradable Images/TRAIN.2_BIODEG_ORI_11180.jpg  \n",
            "  inflating: Dataset/Biodegradable Images/TRAIN.2_BIODEG_ORI_11197.jpg  \n",
            "  inflating: Dataset/Biodegradable Images/TRAIN.2_BIODEG_ORI_11219.jpg  \n",
            "  inflating: Dataset/Biodegradable Images/TRAIN.2_BIODEG_ORI_11224.jpg  \n",
            "  inflating: Dataset/Biodegradable Images/TRAIN.2_BIODEG_ORI_11242.jpg  \n",
            "  inflating: Dataset/Biodegradable Images/TRAIN.2_BIODEG_ORI_11252.jpg  \n",
            "  inflating: Dataset/Biodegradable Images/TRAIN.2_BIODEG_ORI_11260.jpg  \n",
            "  inflating: Dataset/Biodegradable Images/TRAIN.2_BIODEG_ORI_11271.jpg  \n",
            "  inflating: Dataset/Biodegradable Images/TRAIN.2_BIODEG_ORI_11275.jpg  \n",
            "  inflating: Dataset/Biodegradable Images/TRAIN.2_BIODEG_ORI_11276.jpg  \n",
            "  inflating: Dataset/Biodegradable Images/TRAIN.2_BIODEG_ORI_11278.jpg  \n",
            "  inflating: Dataset/Biodegradable Images/TRAIN.2_BIODEG_ORI_11280.jpg  \n",
            "  inflating: Dataset/Biodegradable Images/TRAIN.2_BIODEG_ORI_11281.jpg  \n",
            "  inflating: Dataset/Biodegradable Images/TRAIN.2_BIODEG_ORI_11282.jpg  \n",
            "  inflating: Dataset/Biodegradable Images/TRAIN.2_BIODEG_ORI_11291.jpg  \n",
            "  inflating: Dataset/Biodegradable Images/TRAIN.2_BIODEG_ORI_11292.jpg  \n",
            "  inflating: Dataset/Biodegradable Images/TRAIN.2_BIODEG_ORI_11293.jpg  \n",
            "  inflating: Dataset/Biodegradable Images/TRAIN.2_BIODEG_ORI_11295.jpg  \n",
            "  inflating: Dataset/Biodegradable Images/TRAIN.2_BIODEG_ORI_11297.jpg  \n",
            "  inflating: Dataset/Biodegradable Images/TRAIN.2_BIODEG_ORI_113.jpg  \n",
            "  inflating: Dataset/Biodegradable Images/TRAIN.2_BIODEG_ORI_1130.jpg  \n",
            "  inflating: Dataset/Biodegradable Images/TRAIN.2_BIODEG_ORI_11300.jpg  \n",
            "  inflating: Dataset/Biodegradable Images/TRAIN.2_BIODEG_ORI_11301.jpg  \n",
            "  inflating: Dataset/Biodegradable Images/TRAIN.2_BIODEG_ORI_11303.jpg  \n",
            "  inflating: Dataset/Biodegradable Images/TRAIN.2_BIODEG_ORI_1131.jpg  \n",
            "  inflating: Dataset/Biodegradable Images/TRAIN.2_BIODEG_ORI_11312.jpg  \n",
            "  inflating: Dataset/Biodegradable Images/TRAIN.2_BIODEG_ORI_11313.jpg  \n",
            "  inflating: Dataset/Biodegradable Images/TRAIN.2_BIODEG_ORI_11315.jpg  \n",
            "  inflating: Dataset/Biodegradable Images/TRAIN.2_BIODEG_ORI_1132.jpg  \n",
            "  inflating: Dataset/Biodegradable Images/TRAIN.2_BIODEG_ORI_11324.jpg  \n",
            "  inflating: Dataset/Biodegradable Images/TRAIN.2_BIODEG_ORI_1133.jpg  \n",
            "  inflating: Dataset/Biodegradable Images/TRAIN.2_BIODEG_ORI_11348.jpg  \n",
            "  inflating: Dataset/Biodegradable Images/TRAIN.2_BIODEG_ORI_11358.jpg  \n",
            "  inflating: Dataset/Biodegradable Images/TRAIN.2_BIODEG_ORI_11370.jpg  \n",
            "  inflating: Dataset/Biodegradable Images/TRAIN.2_BIODEG_ORI_11378.jpg  \n",
            "  inflating: Dataset/Biodegradable Images/TRAIN.2_BIODEG_ORI_11405.jpg  \n",
            "  inflating: Dataset/Biodegradable Images/TRAIN.2_BIODEG_ORI_11406.jpg  \n",
            "  inflating: Dataset/Biodegradable Images/TRAIN.2_BIODEG_ORI_11418.jpg  \n",
            "  inflating: Dataset/Biodegradable Images/TRAIN.2_BIODEG_ORI_11499.jpg  \n",
            "  inflating: Dataset/Biodegradable Images/TRAIN.2_BIODEG_ORI_11524.jpg  \n",
            "  inflating: Dataset/Biodegradable Images/TRAIN.2_BIODEG_ORI_1159.jpg  \n",
            "  inflating: Dataset/Biodegradable Images/TRAIN.2_BIODEG_ORI_11643.jpg  \n",
            "  inflating: Dataset/Biodegradable Images/TRAIN.2_BIODEG_ORI_11681 (1).jpg  \n",
            "  inflating: Dataset/Biodegradable Images/TRAIN.2_BIODEG_ORI_11681.jpg  \n",
            "  inflating: Dataset/Biodegradable Images/TRAIN.2_BIODEG_ORI_11682.jpg  \n",
            "  inflating: Dataset/Biodegradable Images/TRAIN.2_BIODEG_ORI_11687.jpg  \n",
            "  inflating: Dataset/Biodegradable Images/TRAIN.2_BIODEG_ORI_11688.jpg  \n",
            "  inflating: Dataset/Biodegradable Images/TRAIN.2_BIODEG_ORI_11689.jpg  \n",
            "  inflating: Dataset/Biodegradable Images/TRAIN.2_BIODEG_ORI_1170.jpg  \n",
            "  inflating: Dataset/Biodegradable Images/TRAIN.2_BIODEG_ORI_11744.jpg  \n",
            "  inflating: Dataset/Biodegradable Images/TRAIN.2_BIODEG_ORI_11932.jpg  \n",
            "  inflating: Dataset/Biodegradable Images/TRAIN.2_BIODEG_ORI_11935.jpg  \n",
            "  inflating: Dataset/Recyclable Images/cardboard10.jpeg  \n",
            "  inflating: Dataset/Recyclable Images/cardboard102.jpeg  \n",
            "  inflating: Dataset/Recyclable Images/cardboard103.jpeg  \n",
            "  inflating: Dataset/Recyclable Images/cardboard107.jpeg  \n",
            "  inflating: Dataset/Recyclable Images/cardboard108.jpeg  \n",
            "  inflating: Dataset/Recyclable Images/cardboard11.jpeg  \n",
            "  inflating: Dataset/Recyclable Images/cardboard113.jpeg  \n",
            "  inflating: Dataset/Recyclable Images/cardboard115.jpeg  \n",
            "  inflating: Dataset/Recyclable Images/cardboard12.jpeg  \n",
            "  inflating: Dataset/Recyclable Images/cardboard126.jpeg  \n",
            "  inflating: Dataset/Recyclable Images/cardboard127.jpeg  \n",
            "  inflating: Dataset/Recyclable Images/cardboard13.jpeg  \n",
            "  inflating: Dataset/Recyclable Images/cardboard130.jpeg  \n",
            "  inflating: Dataset/Recyclable Images/cardboard131.jpeg  \n",
            "  inflating: Dataset/Recyclable Images/cardboard134.jpeg  \n",
            "  inflating: Dataset/Recyclable Images/cardboard136.jpeg  \n",
            "  inflating: Dataset/Recyclable Images/cardboard138.jpeg  \n",
            "  inflating: Dataset/Recyclable Images/cardboard145.jpeg  \n",
            "  inflating: Dataset/Recyclable Images/cardboard146.jpeg  \n",
            "  inflating: Dataset/Recyclable Images/cardboard149.jpeg  \n",
            "  inflating: Dataset/Recyclable Images/cardboard151.jpeg  \n",
            "  inflating: Dataset/Recyclable Images/cardboard152.jpeg  \n",
            "  inflating: Dataset/Recyclable Images/cardboard153.jpeg  \n",
            "  inflating: Dataset/Recyclable Images/cardboard158.jpeg  \n",
            "  inflating: Dataset/Recyclable Images/cardboard160.jpeg  \n",
            "  inflating: Dataset/Recyclable Images/cardboard165.jpeg  \n",
            "  inflating: Dataset/Recyclable Images/glass101.jpeg  \n",
            "  inflating: Dataset/Recyclable Images/glass104.jpeg  \n",
            "  inflating: Dataset/Recyclable Images/glass106.jpeg  \n",
            "  inflating: Dataset/Recyclable Images/glass110.jpeg  \n",
            "  inflating: Dataset/Recyclable Images/glass111.jpeg  \n",
            "  inflating: Dataset/Recyclable Images/glass121.jpeg  \n",
            "  inflating: Dataset/Recyclable Images/glass123.jpeg  \n",
            "  inflating: Dataset/Recyclable Images/glass128.jpeg  \n",
            "  inflating: Dataset/Recyclable Images/glass137.jpeg  \n",
            "  inflating: Dataset/Recyclable Images/glass150.jpeg  \n",
            "  inflating: Dataset/Recyclable Images/glass151.jpeg  \n",
            "  inflating: Dataset/Recyclable Images/glass152.jpeg  \n",
            "  inflating: Dataset/Recyclable Images/glass153.jpeg  \n",
            "  inflating: Dataset/Recyclable Images/glass156.jpeg  \n",
            "  inflating: Dataset/Recyclable Images/glass16.jpeg  \n",
            "  inflating: Dataset/Recyclable Images/glass163.jpeg  \n",
            "  inflating: Dataset/Recyclable Images/glass169.jpeg  \n",
            "  inflating: Dataset/Recyclable Images/glass176.jpeg  \n",
            "  inflating: Dataset/Recyclable Images/glass18.jpeg  \n",
            "  inflating: Dataset/Recyclable Images/glass180.jpeg  \n",
            "  inflating: Dataset/Recyclable Images/glass189.jpeg  \n",
            "  inflating: Dataset/Recyclable Images/glass19.jpeg  \n",
            "  inflating: Dataset/Recyclable Images/glass193.jpeg  \n",
            "  inflating: Dataset/Recyclable Images/glass194.jpeg  \n",
            "  inflating: Dataset/Recyclable Images/glass202.jpeg  \n",
            "  inflating: Dataset/Recyclable Images/glass205.jpeg  \n",
            "  inflating: Dataset/Recyclable Images/metal100.jpeg  \n",
            "  inflating: Dataset/Recyclable Images/metal101.jpeg  \n",
            "  inflating: Dataset/Recyclable Images/metal102.jpeg  \n",
            "  inflating: Dataset/Recyclable Images/metal103.jpeg  \n",
            "  inflating: Dataset/Recyclable Images/metal110.jpeg  \n",
            "  inflating: Dataset/Recyclable Images/metal112.jpeg  \n",
            "  inflating: Dataset/Recyclable Images/metal114.jpeg  \n",
            "  inflating: Dataset/Recyclable Images/metal115.jpeg  \n",
            "  inflating: Dataset/Recyclable Images/metal116.jpeg  \n",
            "  inflating: Dataset/Recyclable Images/metal118.jpeg  \n",
            "  inflating: Dataset/Recyclable Images/metal120.jpeg  \n",
            "  inflating: Dataset/Recyclable Images/metal123.jpeg  \n",
            "  inflating: Dataset/Recyclable Images/metal125.jpeg  \n",
            "  inflating: Dataset/Recyclable Images/metal130.jpeg  \n",
            "  inflating: Dataset/Recyclable Images/metal133.jpeg  \n",
            "  inflating: Dataset/Recyclable Images/metal137.jpeg  \n",
            "  inflating: Dataset/Recyclable Images/metal141.jpeg  \n",
            "  inflating: Dataset/Recyclable Images/metal154.jpeg  \n",
            "  inflating: Dataset/Recyclable Images/metal157.jpeg  \n",
            "  inflating: Dataset/Recyclable Images/metal171.jpeg  \n",
            "  inflating: Dataset/Recyclable Images/metal174.jpeg  \n",
            "  inflating: Dataset/Recyclable Images/metal179.jpeg  \n",
            "  inflating: Dataset/Recyclable Images/metal18.jpeg  \n",
            "  inflating: Dataset/Recyclable Images/metal185.jpeg  \n",
            "  inflating: Dataset/Recyclable Images/metal190.jpeg  \n",
            "  inflating: Dataset/Recyclable Images/metal198.jpeg  \n",
            "  inflating: Dataset/Recyclable Images/paper100.jpeg  \n",
            "  inflating: Dataset/Recyclable Images/paper103.jpeg  \n",
            "  inflating: Dataset/Recyclable Images/paper107.jpeg  \n",
            "  inflating: Dataset/Recyclable Images/paper11.jpeg  \n",
            "  inflating: Dataset/Recyclable Images/paper110.jpeg  \n",
            "  inflating: Dataset/Recyclable Images/paper115.jpeg  \n",
            "  inflating: Dataset/Recyclable Images/paper116.jpeg  \n",
            "  inflating: Dataset/Recyclable Images/paper119.jpeg  \n",
            "  inflating: Dataset/Recyclable Images/paper122.jpeg  \n",
            "  inflating: Dataset/Recyclable Images/paper123.jpeg  \n",
            "  inflating: Dataset/Recyclable Images/paper124.jpeg  \n",
            "  inflating: Dataset/Recyclable Images/paper126.jpeg  \n",
            "  inflating: Dataset/Recyclable Images/paper134.jpeg  \n",
            "  inflating: Dataset/Recyclable Images/paper136.jpeg  \n",
            "  inflating: Dataset/Recyclable Images/paper137.jpeg  \n",
            "  inflating: Dataset/Recyclable Images/paper145.jpeg  \n",
            "  inflating: Dataset/Recyclable Images/paper149.jpeg  \n",
            "  inflating: Dataset/Recyclable Images/paper15.jpeg  \n",
            "  inflating: Dataset/Recyclable Images/paper152.jpeg  \n",
            "  inflating: Dataset/Recyclable Images/paper153.jpeg  \n",
            "  inflating: Dataset/Recyclable Images/paper157.jpeg  \n",
            "  inflating: Dataset/Recyclable Images/paper165.jpeg  \n",
            "  inflating: Dataset/Recyclable Images/paper166.jpeg  \n",
            "  inflating: Dataset/Recyclable Images/paper173.jpeg  \n",
            "  inflating: Dataset/Recyclable Images/paper192.jpeg  \n",
            "  inflating: Dataset/Recyclable Images/paper198.jpeg  \n",
            "  inflating: Dataset/Recyclable Images/plastic100.jpeg  \n",
            "  inflating: Dataset/Recyclable Images/plastic103.jpeg  \n",
            "  inflating: Dataset/Recyclable Images/plastic105.jpeg  \n",
            "  inflating: Dataset/Recyclable Images/plastic107.jpeg  \n",
            "  inflating: Dataset/Recyclable Images/plastic108.jpeg  \n",
            "  inflating: Dataset/Recyclable Images/plastic116.jpeg  \n",
            "  inflating: Dataset/Recyclable Images/plastic122.jpeg  \n",
            "  inflating: Dataset/Recyclable Images/plastic127.jpeg  \n",
            "  inflating: Dataset/Recyclable Images/plastic130.jpeg  \n",
            "  inflating: Dataset/Recyclable Images/plastic135.jpeg  \n",
            "  inflating: Dataset/Recyclable Images/plastic14.jpeg  \n",
            "  inflating: Dataset/Recyclable Images/plastic15.jpeg  \n",
            "  inflating: Dataset/Recyclable Images/plastic151.jpeg  \n",
            "  inflating: Dataset/Recyclable Images/plastic152.jpeg  \n",
            "  inflating: Dataset/Recyclable Images/plastic157.jpeg  \n",
            "  inflating: Dataset/Recyclable Images/plastic160.jpeg  \n",
            "  inflating: Dataset/Recyclable Images/plastic165.jpeg  \n",
            "  inflating: Dataset/Recyclable Images/plastic167.jpeg  \n",
            "  inflating: Dataset/Recyclable Images/plastic171.jpeg  \n",
            "  inflating: Dataset/Recyclable Images/plastic18.jpeg  \n",
            "  inflating: Dataset/Recyclable Images/plastic184.jpeg  \n",
            "  inflating: Dataset/Recyclable Images/plastic186.jpeg  \n",
            "  inflating: Dataset/Recyclable Images/plastic188.jpeg  \n",
            "  inflating: Dataset/Recyclable Images/plastic189.jpeg  \n",
            "  inflating: Dataset/Recyclable Images/plastic202.jpeg  \n",
            "  inflating: Dataset/Recyclable Images/plastic205.jpeg  \n",
            "  inflating: Dataset/Trash Images/TRAIN.2_NBIODEG_CCW_0.jpg  \n",
            "  inflating: Dataset/Trash Images/TRAIN.2_NBIODEG_CCW_1.jpg  \n",
            "  inflating: Dataset/Trash Images/TRAIN.2_NBIODEG_CCW_100.jpg  \n",
            "  inflating: Dataset/Trash Images/TRAIN.2_NBIODEG_CCW_1000.jpg  \n",
            "  inflating: Dataset/Trash Images/TRAIN.2_NBIODEG_CCW_1004.jpg  \n",
            "  inflating: Dataset/Trash Images/TRAIN.2_NBIODEG_CCW_1007.jpg  \n",
            "  inflating: Dataset/Trash Images/TRAIN.4_NBIODEG_CCW_1237.jpg  \n",
            "  inflating: Dataset/Trash Images/TRAIN.4_NBIODEG_CCW_1240.jpg  \n",
            "  inflating: Dataset/Trash Images/TRAIN.4_NBIODEG_CCW_1491.jpg  \n",
            "  inflating: Dataset/Trash Images/TRAIN.4_NBIODEG_CCW_1493.jpg  \n",
            "  inflating: Dataset/Trash Images/TRAIN.4_NBIODEG_CCW_1496.jpg  \n",
            "  inflating: Dataset/Trash Images/TRAIN.4_NBIODEG_CCW_1503.jpg  \n",
            "  inflating: Dataset/Trash Images/TRAIN.4_NBIODEG_CCW_1506.jpg  \n",
            "  inflating: Dataset/Trash Images/TRAIN.4_NBIODEG_CCW_1520.jpg  \n",
            "  inflating: Dataset/Trash Images/TRAIN.4_NBIODEG_CCW_1536.jpg  \n",
            "  inflating: Dataset/Trash Images/TRAIN.4_NBIODEG_CCW_1777.jpg  \n",
            "  inflating: Dataset/Trash Images/TRAIN.4_NBIODEG_CCW_1778.jpg  \n",
            "  inflating: Dataset/Trash Images/TRAIN.4_NBIODEG_CCW_1895.jpg  \n",
            "  inflating: Dataset/Trash Images/TRAIN.4_NBIODEG_CCW_2209.jpg  \n",
            "  inflating: Dataset/Trash Images/TRAIN.4_NBIODEG_CCW_2210.jpg  \n",
            "  inflating: Dataset/Trash Images/TRAIN.4_NBIODEG_CCW_2313.jpg  \n",
            "  inflating: Dataset/Trash Images/TRAIN.4_NBIODEG_CCW_2316.jpg  \n",
            "  inflating: Dataset/Trash Images/TRAIN.4_NBIODEG_CCW_2348.jpg  \n",
            "  inflating: Dataset/Trash Images/TRAIN.4_NBIODEG_CCW_2372.jpg  \n",
            "  inflating: Dataset/Trash Images/trash1.jpeg  \n",
            "  inflating: Dataset/Trash Images/trash10.jpeg  \n",
            "  inflating: Dataset/Trash Images/trash102.jpeg  \n",
            "  inflating: Dataset/Trash Images/trash105.jpeg  \n",
            "  inflating: Dataset/Trash Images/trash107.jpeg  \n",
            "  inflating: Dataset/Trash Images/trash108.jpeg  \n",
            "  inflating: Dataset/Trash Images/trash109.jpeg  \n",
            "  inflating: Dataset/Trash Images/trash11.jpeg  \n",
            "  inflating: Dataset/Trash Images/trash110.jpeg  \n",
            "  inflating: Dataset/Trash Images/trash111.jpeg  \n",
            "  inflating: Dataset/Trash Images/trash112.jpeg  \n",
            "  inflating: Dataset/Trash Images/trash114.jpeg  \n",
            "  inflating: Dataset/Trash Images/trash115.jpeg  \n",
            "  inflating: Dataset/Trash Images/trash116.jpeg  \n",
            "  inflating: Dataset/Trash Images/trash117.jpeg  \n",
            "  inflating: Dataset/Trash Images/trash118.jpeg  \n",
            "  inflating: Dataset/Trash Images/trash119.jpeg  \n",
            "  inflating: Dataset/Trash Images/trash12.jpeg  \n",
            "  inflating: Dataset/Trash Images/trash120.jpeg  \n",
            "  inflating: Dataset/Trash Images/trash121.jpeg  \n",
            "  inflating: Dataset/Trash Images/trash122.jpeg  \n",
            "  inflating: Dataset/Trash Images/trash123.jpeg  \n",
            "  inflating: Dataset/Trash Images/trash124.jpeg  \n",
            "  inflating: Dataset/Trash Images/trash125.jpeg  \n",
            "  inflating: Dataset/Trash Images/trash126.jpeg  \n",
            "  inflating: Dataset/Trash Images/trash127.jpeg  \n",
            "  inflating: Dataset/Trash Images/trash128.jpeg  \n",
            "  inflating: Dataset/Trash Images/trash129.jpeg  \n",
            "  inflating: Dataset/Trash Images/trash130.jpeg  \n",
            "  inflating: Dataset/Trash Images/trash132.jpeg  \n",
            "  inflating: Dataset/Trash Images/trash133.jpeg  \n",
            "  inflating: Dataset/Trash Images/trash134.jpeg  \n",
            "  inflating: Dataset/Trash Images/trash135.jpeg  \n",
            "  inflating: Dataset/Trash Images/trash136.jpeg  \n",
            "  inflating: Dataset/Trash Images/trash137.jpeg  \n",
            "  inflating: Dataset/Trash Images/trash14.jpeg  \n",
            "  inflating: Dataset/Trash Images/trash15.jpeg  \n",
            "  inflating: Dataset/Trash Images/trash16.jpeg  \n",
            "  inflating: Dataset/Trash Images/trash18.jpeg  \n",
            "  inflating: Dataset/Trash Images/trash19.jpeg  \n",
            "  inflating: Dataset/Trash Images/trash2.jpeg  \n",
            "  inflating: Dataset/Trash Images/trash20.jpeg  \n",
            "  inflating: Dataset/Trash Images/trash21.jpeg  \n",
            "  inflating: Dataset/Trash Images/trash22.jpeg  \n",
            "  inflating: Dataset/Trash Images/trash23.jpeg  \n",
            "  inflating: Dataset/Trash Images/trash24.jpeg  \n",
            "  inflating: Dataset/Trash Images/trash25.jpeg  \n",
            "  inflating: Dataset/Trash Images/trash27.jpeg  \n",
            "  inflating: Dataset/Trash Images/trash28.jpeg  \n",
            "  inflating: Dataset/Trash Images/trash29.jpeg  \n",
            "  inflating: Dataset/Trash Images/trash3.jpeg  \n",
            "  inflating: Dataset/Trash Images/trash32.jpeg  \n",
            "  inflating: Dataset/Trash Images/trash33.jpeg  \n",
            "  inflating: Dataset/Trash Images/trash34.jpeg  \n",
            "  inflating: Dataset/Trash Images/trash35.jpeg  \n",
            "  inflating: Dataset/Trash Images/trash36.jpeg  \n",
            "  inflating: Dataset/Trash Images/trash37.jpeg  \n",
            "  inflating: Dataset/Trash Images/trash38.jpeg  \n",
            "  inflating: Dataset/Trash Images/trash39.jpeg  \n",
            "  inflating: Dataset/Trash Images/trash4.jpeg  \n",
            "  inflating: Dataset/Trash Images/trash40.jpeg  \n",
            "  inflating: Dataset/Trash Images/trash41.jpeg  \n",
            "  inflating: Dataset/Trash Images/trash43.jpeg  \n",
            "  inflating: Dataset/Trash Images/trash44.jpeg  \n",
            "  inflating: Dataset/Trash Images/trash45.jpeg  \n",
            "  inflating: Dataset/Trash Images/trash46.jpeg  \n",
            "  inflating: Dataset/Trash Images/trash47.jpeg  \n",
            "  inflating: Dataset/Trash Images/trash48.jpeg  \n",
            "  inflating: Dataset/Trash Images/trash5.jpeg  \n",
            "  inflating: Dataset/Trash Images/trash50.jpeg  \n",
            "  inflating: Dataset/Trash Images/trash52.jpeg  \n",
            "  inflating: Dataset/Trash Images/trash53.jpeg  \n",
            "  inflating: Dataset/Trash Images/trash54.jpeg  \n",
            "  inflating: Dataset/Trash Images/trash57.jpeg  \n",
            "  inflating: Dataset/Trash Images/trash6.jpeg  \n",
            "  inflating: Dataset/Trash Images/trash60.jpeg  \n",
            "  inflating: Dataset/Trash Images/trash62.jpeg  \n",
            "  inflating: Dataset/Trash Images/trash63.jpeg  \n",
            "  inflating: Dataset/Trash Images/trash64.jpeg  \n",
            "  inflating: Dataset/Trash Images/trash66.jpeg  \n",
            "  inflating: Dataset/Trash Images/trash68.jpeg  \n",
            "  inflating: Dataset/Trash Images/trash69.jpeg  \n",
            "  inflating: Dataset/Trash Images/trash70.jpeg  \n",
            "  inflating: Dataset/Trash Images/trash71.jpeg  \n",
            "  inflating: Dataset/Trash Images/trash72.jpeg  \n",
            "  inflating: Dataset/Trash Images/trash73.jpeg  \n",
            "  inflating: Dataset/Trash Images/trash75.jpeg  \n",
            "  inflating: Dataset/Trash Images/trash77.jpeg  \n",
            "  inflating: Dataset/Trash Images/trash78.jpeg  \n",
            "  inflating: Dataset/Trash Images/trash79.jpeg  \n",
            "  inflating: Dataset/Trash Images/trash80.jpeg  \n",
            "  inflating: Dataset/Trash Images/trash82.jpeg  \n",
            "  inflating: Dataset/Trash Images/trash83.jpeg  \n",
            "  inflating: Dataset/Trash Images/trash85.jpeg  \n",
            "  inflating: Dataset/Trash Images/trash86.jpeg  \n",
            "  inflating: Dataset/Trash Images/trash87.jpeg  \n",
            "  inflating: Dataset/Trash Images/trash88.jpeg  \n",
            "  inflating: Dataset/Trash Images/trash9.jpeg  \n",
            "  inflating: Dataset/Trash Images/trash90.jpeg  \n",
            "  inflating: Dataset/Trash Images/trash91.jpeg  \n",
            "  inflating: Dataset/Trash Images/trash92.jpeg  \n",
            "  inflating: Dataset/Trash Images/trash93.jpeg  \n",
            "  inflating: Dataset/Trash Images/trash94.jpeg  \n",
            "  inflating: Dataset/Trash Images/trash97.jpeg  \n",
            "  inflating: Dataset/Trash Images/trash98.jpeg  \n",
            "  inflating: Dataset/Trash Images/trash99.jpeg  \n"
          ]
        }
      ]
    },
    {
      "cell_type": "markdown",
      "source": [
        "**Set Path to the Dataset:**"
      ],
      "metadata": {
        "id": "c4PA-uSHXgXk"
      }
    },
    {
      "cell_type": "code",
      "source": [
        "dataset_dir = '/content/Dataset'\n",
        "classes = os.listdir(dataset_dir)\n"
      ],
      "metadata": {
        "id": "zH7NtqPGTnXk"
      },
      "execution_count": 7,
      "outputs": []
    },
    {
      "cell_type": "markdown",
      "source": [
        "**Create Output Directories for Train, Validation, and Test Sets:**"
      ],
      "metadata": {
        "id": "rEq7M--nXqxf"
      }
    },
    {
      "cell_type": "code",
      "source": [
        "output_dir = 'output_dataset'\n",
        "os.makedirs(output_dir, exist_ok=True)\n",
        "os.makedirs(os.path.join(output_dir, 'train'), exist_ok=True)\n",
        "os.makedirs(os.path.join(output_dir, 'val'), exist_ok=True)\n",
        "os.makedirs(os.path.join(output_dir, 'test'), exist_ok=True)\n"
      ],
      "metadata": {
        "id": "kTxsh71AXCNq"
      },
      "execution_count": 8,
      "outputs": []
    },
    {
      "cell_type": "markdown",
      "source": [
        "**Create Subdirectories for Each Class:**"
      ],
      "metadata": {
        "id": "4AcxtWM7X263"
      }
    },
    {
      "cell_type": "code",
      "source": [
        "for cls in classes:\n",
        "    os.makedirs(os.path.join(output_dir, 'train', cls), exist_ok=True)\n",
        "    os.makedirs(os.path.join(output_dir, 'val', cls), exist_ok=True)\n",
        "    os.makedirs(os.path.join(output_dir, 'test', cls), exist_ok=True)\n"
      ],
      "metadata": {
        "id": "gtJl5BOFXE0k"
      },
      "execution_count": 9,
      "outputs": []
    },
    {
      "cell_type": "markdown",
      "source": [
        "**Split the Dataset:**"
      ],
      "metadata": {
        "id": "Bz615uS-YFU6"
      }
    },
    {
      "cell_type": "code",
      "source": [
        "    class_dir = os.path.join(dataset_dir, cls)\n",
        "    images = os.listdir(class_dir)\n",
        "    print(cls, len(images))\n",
        "\n",
        "    train_and_val_images, test_images = train_test_split(images, test_size=0.2, random_state=42)\n",
        "    train_images, val_images = train_test_split(train_and_val_images, test_size=0.25, random_state=42)  # 0.25 * 0.8 = 0.2\n"
      ],
      "metadata": {
        "colab": {
          "base_uri": "https://localhost:8080/"
        },
        "id": "cDQoJqMCYNiG",
        "outputId": "faadfd36-f9ee-4ef8-abeb-bfe76449dace"
      },
      "execution_count": 10,
      "outputs": [
        {
          "output_type": "stream",
          "name": "stdout",
          "text": [
            "Biodegradable Images 130\n"
          ]
        }
      ]
    },
    {
      "cell_type": "markdown",
      "source": [
        "**Copy Images to Respective Directories**:"
      ],
      "metadata": {
        "id": "k9e1rcmWYjnf"
      }
    },
    {
      "cell_type": "code",
      "source": [
        "    for img in train_images:\n",
        "        shutil.copy(os.path.join(class_dir, img), os.path.join(output_dir, 'train', cls, img))\n",
        "    for img in val_images:\n",
        "        shutil.copy(os.path.join(class_dir, img), os.path.join(output_dir, 'val', cls, img))\n",
        "    for img in test_images:\n",
        "        shutil.copy(os.path.join(class_dir, img), os.path.join(output_dir, 'test', cls, img))\n",
        "print(\"Dataset split into training, validation, and test sets.\")\n"
      ],
      "metadata": {
        "colab": {
          "base_uri": "https://localhost:8080/"
        },
        "id": "Q4kYJu1EYoNz",
        "outputId": "4629a8fa-cc6d-4a23-9cf4-262579cc7b67"
      },
      "execution_count": 12,
      "outputs": [
        {
          "output_type": "stream",
          "name": "stdout",
          "text": [
            "Dataset split into training, validation, and test sets.\n"
          ]
        }
      ]
    },
    {
      "cell_type": "markdown",
      "source": [
        "**Define Directory Paths:**"
      ],
      "metadata": {
        "id": "IPlmRNZIZxWR"
      }
    },
    {
      "cell_type": "code",
      "source": [
        "dataset_dir = '/content/output_dataset'\n",
        "train_dir = os.path.join(dataset_dir, 'train')\n",
        "val_dir = os.path.join(dataset_dir, 'val')\n",
        "test_dir = os.path.join(dataset_dir, 'test')\n"
      ],
      "metadata": {
        "id": "HEjENqyzZzOT"
      },
      "execution_count": 13,
      "outputs": []
    },
    {
      "cell_type": "markdown",
      "source": [
        "**Define Image Size**:"
      ],
      "metadata": {
        "id": "jfljAOgUZ4qo"
      }
    },
    {
      "cell_type": "code",
      "source": [
        "IMG_SIZE = (224, 224)  # Common size for pre-trained models\n"
      ],
      "metadata": {
        "id": "sEq0GdHRZ9pd"
      },
      "execution_count": 14,
      "outputs": []
    },
    {
      "cell_type": "markdown",
      "source": [
        "**Create ImageDataGenerator for Augmentation and Rescaling:**"
      ],
      "metadata": {
        "id": "3M0kHatxaCPl"
      }
    },
    {
      "cell_type": "code",
      "source": [
        "train_datagen = ImageDataGenerator(\n",
        "    rescale=1./255,\n",
        "    rotation_range=20,\n",
        "    width_shift_range=0.2,\n",
        "    height_shift_range=0.2,\n",
        "    shear_range=0.2,\n",
        "    zoom_range=0.2,\n",
        "    horizontal_flip=True,\n",
        "    fill_mode='nearest'\n",
        ")"
      ],
      "metadata": {
        "id": "TVBVzU1iaHFz"
      },
      "execution_count": 15,
      "outputs": []
    },
    {
      "cell_type": "markdown",
      "source": [
        "**Load and Resize Images from Directories:**"
      ],
      "metadata": {
        "id": "AAUCoryaaUkM"
      }
    },
    {
      "cell_type": "code",
      "source": [
        "from tensorflow.keras.preprocessing.image import ImageDataGenerator\n",
        "\n",
        "# Define ImageDataGenerators for resizing and augmenting the images\n",
        "train_datagen = ImageDataGenerator(\n",
        "    rescale=1./255,\n",
        "    rotation_range=20,\n",
        "    width_shift_range=0.2,\n",
        "    height_shift_range=0.2,\n",
        "    shear_range=0.2,\n",
        "    zoom_range=0.2,\n",
        "    horizontal_flip=True,\n",
        "    fill_mode='nearest'\n",
        ")\n",
        "\n",
        "# Define a separate ImageDataGenerator for validation and test (no augmentation, only rescaling)\n",
        "val_test_datagen = ImageDataGenerator(rescale=1./255)\n",
        "\n",
        "# Load and resize the images from directories\n",
        "train_generator = train_datagen.flow_from_directory(\n",
        "    train_dir,\n",
        "    target_size=IMG_SIZE,\n",
        "    batch_size=32,\n",
        "    class_mode='binary'  # Assuming binary classification\n",
        ")\n",
        "\n",
        "val_generator = val_test_datagen.flow_from_directory(\n",
        "    val_dir,\n",
        "    target_size=IMG_SIZE,\n",
        "    batch_size=32,\n",
        "    class_mode='binary'\n",
        ")\n",
        "\n",
        "test_generator = val_test_datagen.flow_from_directory(\n",
        "    test_dir,\n",
        "    target_size=IMG_SIZE,\n",
        "    batch_size=32,\n",
        "    class_mode='binary',\n",
        "    shuffle=False  # Do not shuffle test data\n",
        ")\n",
        "\n"
      ],
      "metadata": {
        "colab": {
          "base_uri": "https://localhost:8080/"
        },
        "id": "d9ZxskcMaWdB",
        "outputId": "f8418e2c-c3d6-4755-e857-45f737ef4db7"
      },
      "execution_count": 17,
      "outputs": [
        {
          "output_type": "stream",
          "name": "stdout",
          "text": [
            "Found 78 images belonging to 4 classes.\n",
            "Found 26 images belonging to 4 classes.\n",
            "Found 26 images belonging to 4 classes.\n"
          ]
        }
      ]
    },
    {
      "cell_type": "markdown",
      "source": [
        "**Print Class Indices:**"
      ],
      "metadata": {
        "id": "g9Jck2wEcOIw"
      }
    },
    {
      "cell_type": "code",
      "source": [
        "print(train_generator.class_indices)\n",
        "print(val_generator.class_indices)\n",
        "print(test_generator.class_indices)\n"
      ],
      "metadata": {
        "colab": {
          "base_uri": "https://localhost:8080/"
        },
        "id": "3qGdKreBcUIC",
        "outputId": "e0002abf-8399-497d-8b4b-2d8efc87b328"
      },
      "execution_count": 18,
      "outputs": [
        {
          "output_type": "stream",
          "name": "stdout",
          "text": [
            "{'Biodegradable Images': 0, 'Recyclable Images': 1, 'Trash Images': 2, 'archive.zip': 3}\n",
            "{'Biodegradable Images': 0, 'Recyclable Images': 1, 'Trash Images': 2, 'archive.zip': 3}\n",
            "{'Biodegradable Images': 0, 'Recyclable Images': 1, 'Trash Images': 2, 'archive.zip': 3}\n"
          ]
        }
      ]
    },
    {
      "cell_type": "markdown",
      "source": [
        "**DATA VISUALISATION**"
      ],
      "metadata": {
        "id": "YpGHzDrkdgNA"
      }
    },
    {
      "cell_type": "code",
      "source": [],
      "metadata": {
        "id": "vC-1Vmi3dnky"
      },
      "execution_count": null,
      "outputs": []
    }
  ]
}